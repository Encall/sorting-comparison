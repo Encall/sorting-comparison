{
 "cells": [
  {
   "cell_type": "code",
   "execution_count": 5,
   "metadata": {},
   "outputs": [],
   "source": [
    "import os\n",
    "import fnmatch"
   ]
  },
  {
   "cell_type": "code",
   "execution_count": 2,
   "metadata": {},
   "outputs": [],
   "source": [
    "dataset = ['1000', '5000', '10000', '30000', '60000', '100000', '250000', '500000', '750000' '1000000']"
   ]
  },
  {
   "cell_type": "code",
   "execution_count": 23,
   "metadata": {},
   "outputs": [],
   "source": [
    "path = 'bubble/'\n",
    "files = os.listdir(path)\n",
    "for i in range(len(dataset)):\n",
    "    for file in files:    \n",
    "        if fnmatch.fnmatch(file, f'memory.int_4_*{dataset}*') and not 'Unique' in file and not 'rep30' in file and not 'unique' in file and not 'Rep30' in file:\n",
    "            parts = file.split('_')\n",
    "            newpart = parts[3] + '_Unique'\n",
    "            newfile = file.replace(parts[3], newpart)\n",
    "            os.rename(path + file, path + newfile)\n",
    "\n",
    "        \n",
    "            \n",
    "    "
   ]
  },
  {
   "cell_type": "code",
   "execution_count": null,
   "metadata": {},
   "outputs": [],
   "source": [
    "path = 'insert/'\n",
    "files = os.listdir(path)\n",
    "for i in range(len(dataset)):\n",
    "    for file in files:    \n",
    "        if fnmatch.fnmatch(file, f'memory.int_4_*{dataset}*') and not 'Unique' in file and not 'rep30' in file and not 'unique' in file and not 'Rep30' in file:\n",
    "            parts = file.split('_')\n",
    "            newpart = parts[3] + '_Unique'\n",
    "            newfile = file.replace(parts[3], newpart,1)\n",
    "            print(newfile)\n",
    "            os.rename(path + file, path + newfile)\n",
    "\n",
    "        \n",
    "            \n",
    "    "
   ]
  },
  {
   "cell_type": "code",
   "execution_count": null,
   "metadata": {},
   "outputs": [],
   "source": [
    "path = 'merge/'\n",
    "files = os.listdir(path)\n",
    "for i in range(len(dataset)):\n",
    "    for file in files:    \n",
    "        if fnmatch.fnmatch(file, f'memory.int_4_*{dataset}*') and not 'Unique' in file and not 'rep30' in file and not 'unique' in file and not 'Rep30' in file:\n",
    "            parts = file.split('_')\n",
    "            newpart = parts[3] + '_Unique'\n",
    "            newfile = file.replace(parts[3], newpart,1)\n",
    "            # print(newfile)\n",
    "            os.rename(path + file, path + newfile)"
   ]
  },
  {
   "cell_type": "code",
   "execution_count": null,
   "metadata": {},
   "outputs": [],
   "source": [
    "path = 'quick/'\n",
    "files = os.listdir(path)\n",
    "for i in range(len(dataset)):\n",
    "    for file in files:    \n",
    "        if fnmatch.fnmatch(file, f'memory.int_4_*{dataset}*') and not 'Unique' in file and not 'rep30' in file and not 'unique' in file and not 'Rep30' in file:\n",
    "            parts = file.split('_')\n",
    "            newpart = parts[3] + '_Unique'\n",
    "            newfile = file.replace(parts[3], newpart,1)\n",
    "            # print(newfile)\n",
    "            os.rename(path + file, path + newfile)"
   ]
  },
  {
   "cell_type": "code",
   "execution_count": 33,
   "metadata": {},
   "outputs": [
    {
     "ename": "FileNotFoundError",
     "evalue": "[WinError 2] The system cannot find the file specified: 'selection/memory.int_4_AlmostSorted_50_250000.txt.1.csv' -> 'selection/memory.int_4_AlmostSorted_50_Unique_250000.txt.1.csv'",
     "output_type": "error",
     "traceback": [
      "\u001b[1;31m---------------------------------------------------------------------------\u001b[0m",
      "\u001b[1;31mFileNotFoundError\u001b[0m                         Traceback (most recent call last)",
      "\u001b[1;32mc:\\Folders\\Coding\\CPE231_SortingCom_YIM\\sorting-comparison\\output\\output_rename.ipynb Cell 7\u001b[0m line \u001b[0;36m1\n\u001b[0;32m      <a href='vscode-notebook-cell:/c%3A/Folders/Coding/CPE231_SortingCom_YIM/sorting-comparison/output/output_rename.ipynb#X10sZmlsZQ%3D%3D?line=7'>8</a>\u001b[0m newfile \u001b[39m=\u001b[39m file\u001b[39m.\u001b[39mreplace(parts[\u001b[39m3\u001b[39m], newpart,\u001b[39m1\u001b[39m)\n\u001b[0;32m      <a href='vscode-notebook-cell:/c%3A/Folders/Coding/CPE231_SortingCom_YIM/sorting-comparison/output/output_rename.ipynb#X10sZmlsZQ%3D%3D?line=8'>9</a>\u001b[0m \u001b[39m# print(newfile)\u001b[39;00m\n\u001b[1;32m---> <a href='vscode-notebook-cell:/c%3A/Folders/Coding/CPE231_SortingCom_YIM/sorting-comparison/output/output_rename.ipynb#X10sZmlsZQ%3D%3D?line=9'>10</a>\u001b[0m os\u001b[39m.\u001b[39mrename(path \u001b[39m+\u001b[39m file, path \u001b[39m+\u001b[39m newfile)\n",
      "\u001b[1;31mFileNotFoundError\u001b[0m: [WinError 2] The system cannot find the file specified: 'selection/memory.int_4_AlmostSorted_50_250000.txt.1.csv' -> 'selection/memory.int_4_AlmostSorted_50_Unique_250000.txt.1.csv'"
     ]
    }
   ],
   "source": [
    "path = 'selection/'\n",
    "files = os.listdir(path)\n",
    "for i in range(len(dataset)):\n",
    "    for file in files:    \n",
    "        if fnmatch.fnmatch(file, f'memory.int_4_*{dataset}*') and not 'Unique' in file and not 'rep30' in file and not 'unique' in file and not 'Rep30' in file:\n",
    "            parts = file.split('_')\n",
    "            newpart = parts[3] + '_Unique'\n",
    "            newfile = file.replace(parts[3], newpart,1)\n",
    "            # print(newfile)\n",
    "            os.rename(path + file, path + newfile)"
   ]
  },
  {
   "cell_type": "code",
   "execution_count": null,
   "metadata": {},
   "outputs": [],
   "source": []
  }
 ],
 "metadata": {
  "kernelspec": {
   "display_name": "Python 3",
   "language": "python",
   "name": "python3"
  },
  "language_info": {
   "codemirror_mode": {
    "name": "ipython",
    "version": 3
   },
   "file_extension": ".py",
   "mimetype": "text/x-python",
   "name": "python",
   "nbconvert_exporter": "python",
   "pygments_lexer": "ipython3",
   "version": "3.11.4"
  }
 },
 "nbformat": 4,
 "nbformat_minor": 2
}
